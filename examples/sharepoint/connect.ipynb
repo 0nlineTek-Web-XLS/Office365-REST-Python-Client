{
 "cells": [
  {
   "cell_type": "code",
   "execution_count": 31,
   "id": "initial_id",
   "metadata": {
    "collapsed": true,
    "ExecuteTime": {
     "end_time": "2024-02-11T10:23:26.221156714Z",
     "start_time": "2024-02-11T10:23:26.197964378Z"
    }
   },
   "outputs": [],
   "source": [
    "from office365.sharepoint.client_context import ClientContext\n",
    "client_id = \"4b7eb3df-afc3-4b7d-ae1d-629f22a3fe42\" \n",
    "site_url = \"https://mediadev8.sharepoint.com\"\n",
    "tenant_name = \"mediadev8.onmicrosoft.com\""
   ]
  },
  {
   "cell_type": "code",
   "outputs": [],
   "source": [
    "ctx = ClientContext(site_url).with_interactive(tenant_name, client_id)"
   ],
   "metadata": {
    "collapsed": false,
    "ExecuteTime": {
     "end_time": "2024-02-11T10:23:27.733534468Z",
     "start_time": "2024-02-11T10:23:27.725507872Z"
    }
   },
   "id": "b5504d6537baaebd",
   "execution_count": 32
  },
  {
   "cell_type": "code",
   "outputs": [
    {
     "data": {
      "text/plain": "vgrem@mediadev8.onmicrosoft.com"
     },
     "execution_count": 34,
     "metadata": {},
     "output_type": "execute_result"
    }
   ],
   "source": [
    "me = ctx.web.current_user.get().execute_query()\n",
    "me"
   ],
   "metadata": {
    "collapsed": false,
    "ExecuteTime": {
     "end_time": "2024-02-11T10:23:36.770634654Z",
     "start_time": "2024-02-11T10:23:36.520379564Z"
    }
   },
   "id": "e61a0947e8ef00d5",
   "execution_count": 34
  },
  {
   "cell_type": "code",
   "outputs": [],
   "source": [],
   "metadata": {
    "collapsed": false
   },
   "id": "403e49d95b83b674"
  }
 ],
 "metadata": {
  "kernelspec": {
   "display_name": "Python 3",
   "language": "python",
   "name": "python3"
  },
  "language_info": {
   "codemirror_mode": {
    "name": "ipython",
    "version": 2
   },
   "file_extension": ".py",
   "mimetype": "text/x-python",
   "name": "python",
   "nbconvert_exporter": "python",
   "pygments_lexer": "ipython2",
   "version": "2.7.6"
  }
 },
 "nbformat": 4,
 "nbformat_minor": 5
}
